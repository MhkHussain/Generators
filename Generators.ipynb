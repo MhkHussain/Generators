{
 "cells": [
  {
   "cell_type": "code",
   "execution_count": 1,
   "id": "f65539c2",
   "metadata": {},
   "outputs": [
    {
     "name": "stdout",
     "output_type": "stream",
     "text": [
      "First Number\n",
      "1\n",
      "Second Number\n",
      "2\n"
     ]
    }
   ],
   "source": [
    "def gen():\n",
    "    n=1\n",
    "    print(\"First Number\")\n",
    "    yield n\n",
    "    n+=1\n",
    "    print(\"Second Number\")\n",
    "    yield n\n",
    "    \n",
    "for i in gen():\n",
    "    print(i)"
   ]
  },
  {
   "cell_type": "code",
   "execution_count": 4,
   "id": "0b0dcecc",
   "metadata": {},
   "outputs": [
    {
     "name": "stdout",
     "output_type": "stream",
     "text": [
      "[4, 16, 49, 9, 81, 0]\n"
     ]
    }
   ],
   "source": [
    "#using function\n",
    "def square_num(nums):\n",
    "    result=[]\n",
    "    for i in nums:\n",
    "        result.append(i**2)\n",
    "    return result\n",
    "my_num= square_num([2,4,7,3,9,0])\n",
    "print(my_num)"
   ]
  },
  {
   "cell_type": "code",
   "execution_count": 6,
   "id": "13127905",
   "metadata": {},
   "outputs": [
    {
     "name": "stdout",
     "output_type": "stream",
     "text": [
      "4\n",
      "16\n",
      "49\n",
      "9\n",
      "81\n",
      "0\n"
     ]
    }
   ],
   "source": [
    "#using generator\n",
    "\n",
    "def square_num(nums):\n",
    "    for i in nums:\n",
    "        yield(i**2)\n",
    "    \n",
    "my_num=square_num([2,4,7,3,9,0])\n",
    "\n",
    "for x in my_num:\n",
    "    print(x)\n",
    "#print my_num"
   ]
  },
  {
   "cell_type": "code",
   "execution_count": 9,
   "id": "804a05f0",
   "metadata": {},
   "outputs": [
    {
     "name": "stdout",
     "output_type": "stream",
     "text": [
      "n\n",
      "o\n",
      "h\n",
      "t\n",
      "y\n",
      "P\n",
      " \n",
      "o\n",
      "l\n",
      "l\n",
      "e\n",
      "H\n"
     ]
    }
   ],
   "source": [
    "def word(start):\n",
    "    length=len(start)\n",
    "    for i in range(length-1,-1,-1):\n",
    "        yield start[i]\n",
    "    \n",
    "for w in word(\"Hello Python\"):\n",
    "    print(w)"
   ]
  },
  {
   "cell_type": "code",
   "execution_count": null,
   "id": "7c651add",
   "metadata": {},
   "outputs": [],
   "source": []
  }
 ],
 "metadata": {
  "kernelspec": {
   "display_name": "Python 3 (ipykernel)",
   "language": "python",
   "name": "python3"
  },
  "language_info": {
   "codemirror_mode": {
    "name": "ipython",
    "version": 3
   },
   "file_extension": ".py",
   "mimetype": "text/x-python",
   "name": "python",
   "nbconvert_exporter": "python",
   "pygments_lexer": "ipython3",
   "version": "3.9.6"
  }
 },
 "nbformat": 4,
 "nbformat_minor": 5
}
